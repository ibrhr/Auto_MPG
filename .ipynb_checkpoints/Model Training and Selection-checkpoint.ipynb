{
 "cells": [
  {
   "cell_type": "markdown",
   "id": "4c46f41a-1e7d-453e-ad77-d389de3820bd",
   "metadata": {},
   "source": [
    "# Auto MPG dataset Model Training and Selection"
   ]
  },
  {
   "cell_type": "code",
   "execution_count": 1,
   "id": "497ed6da-ca2f-4111-ae0f-0fde859c7bf2",
   "metadata": {},
   "outputs": [],
   "source": [
    "import numpy as np\n",
    "import pandas as pd\n",
    "import matplotlib.pyplot as plt\n",
    "import seaborn as sns"
   ]
  },
  {
   "cell_type": "code",
   "execution_count": 2,
   "id": "d80e93a0-013c-4b1f-a5e6-d2b8067efd06",
   "metadata": {},
   "outputs": [],
   "source": [
    "# Column Names\n",
    "cols = ['MPG','Cylinders','Displacement','Horsepower','Weight',\n",
    "                'Acceleration', 'Model Year', 'Origin']\n",
    "\n",
    "num_cols = ['MPG','Displacement','Horsepower','Weight',\n",
    "                'Acceleration', 'Model Year','Cylinders']\n",
    "\n",
    "cat_cols = ['Origin']\n",
    "\n",
    "df = pd.read_csv('dataset/auto-mpg.data', names=cols, na_values = \"?\",\n",
    "                comment = '\\t',\n",
    "                sep= \" \",\n",
    "                skipinitialspace=True)\n",
    "\n",
    "#making a copy of the dataframe\n",
    "data = df.copy()"
   ]
  },
  {
   "cell_type": "markdown",
   "id": "c49d2bc7-7440-4e03-8848-bd4de7d5364a",
   "metadata": {},
   "source": [
    "## Data Preprocessing"
   ]
  },
  {
   "cell_type": "code",
   "execution_count": 3,
   "id": "1294228e-d96e-4042-b865-83d2da42e10d",
   "metadata": {},
   "outputs": [
    {
     "data": {
      "text/plain": [
       "array([[ 18. , 307. , 130. , ...,  12. ,  70. ,   8. ],\n",
       "       [ 15. , 350. , 165. , ...,  11.5,  70. ,   8. ],\n",
       "       [ 18. , 318. , 150. , ...,  11. ,  70. ,   8. ],\n",
       "       ...,\n",
       "       [ 32. , 135. ,  84. , ...,  11.6,  82. ,   4. ],\n",
       "       [ 28. , 120. ,  79. , ...,  18.6,  82. ,   4. ],\n",
       "       [ 31. , 119. ,  82. , ...,  19.4,  82. ,   4. ]])"
      ]
     },
     "execution_count": 3,
     "metadata": {},
     "output_type": "execute_result"
    }
   ],
   "source": [
    "# handling missing values\n",
    "from sklearn.impute import SimpleImputer\n",
    "\n",
    "imputer = SimpleImputer(strategy=\"median\")\n",
    "imputer.fit_transform(data[num_cols])"
   ]
  },
  {
   "cell_type": "code",
   "execution_count": 4,
   "id": "1298c1f9-b2e6-4ac4-aff8-e2780872f44a",
   "metadata": {},
   "outputs": [
    {
     "data": {
      "text/plain": [
       "MPG             0\n",
       "Cylinders       0\n",
       "Displacement    0\n",
       "Horsepower      6\n",
       "Weight          0\n",
       "Acceleration    0\n",
       "Model Year      0\n",
       "Origin          0\n",
       "dtype: int64"
      ]
     },
     "execution_count": 4,
     "metadata": {},
     "output_type": "execute_result"
    }
   ],
   "source": [
    "data.isnull().sum()"
   ]
  },
  {
   "cell_type": "code",
   "execution_count": 5,
   "id": "45969c55-deec-434b-8ecf-c249370a318e",
   "metadata": {},
   "outputs": [],
   "source": [
    "from sklearn.preprocessing import OneHotEncoder\n",
    "\n",
    "# One-hot encode the categorical columns\n",
    "encoder = OneHotEncoder()\n",
    "encoded = encoder.fit_transform(data[cat_cols]).toarray()\n",
    "\n",
    "# Create a DataFrame with the encoded columns\n",
    "encoded_df = pd.DataFrame(encoded, columns=encoder.get_feature_names_out(cat_cols))\n",
    "\n",
    "# Concatenate the original data with the one-hot encoded columns\n",
    "data = pd.concat([data, encoded_df], axis=1).drop(cat_cols, axis=1)"
   ]
  },
  {
   "cell_type": "code",
   "execution_count": 6,
   "id": "7f087540-b82a-4bbc-904b-cff9ac06ac7a",
   "metadata": {},
   "outputs": [
    {
     "data": {
      "text/html": [
       "<div>\n",
       "<style scoped>\n",
       "    .dataframe tbody tr th:only-of-type {\n",
       "        vertical-align: middle;\n",
       "    }\n",
       "\n",
       "    .dataframe tbody tr th {\n",
       "        vertical-align: top;\n",
       "    }\n",
       "\n",
       "    .dataframe thead th {\n",
       "        text-align: right;\n",
       "    }\n",
       "</style>\n",
       "<table border=\"1\" class=\"dataframe\">\n",
       "  <thead>\n",
       "    <tr style=\"text-align: right;\">\n",
       "      <th></th>\n",
       "      <th>MPG</th>\n",
       "      <th>Cylinders</th>\n",
       "      <th>Displacement</th>\n",
       "      <th>Horsepower</th>\n",
       "      <th>Weight</th>\n",
       "      <th>Acceleration</th>\n",
       "      <th>Model Year</th>\n",
       "      <th>Origin_1</th>\n",
       "      <th>Origin_2</th>\n",
       "      <th>Origin_3</th>\n",
       "    </tr>\n",
       "  </thead>\n",
       "  <tbody>\n",
       "    <tr>\n",
       "      <th>0</th>\n",
       "      <td>18.0</td>\n",
       "      <td>8</td>\n",
       "      <td>307.0</td>\n",
       "      <td>130.0</td>\n",
       "      <td>3504.0</td>\n",
       "      <td>12.0</td>\n",
       "      <td>70</td>\n",
       "      <td>1.0</td>\n",
       "      <td>0.0</td>\n",
       "      <td>0.0</td>\n",
       "    </tr>\n",
       "    <tr>\n",
       "      <th>1</th>\n",
       "      <td>15.0</td>\n",
       "      <td>8</td>\n",
       "      <td>350.0</td>\n",
       "      <td>165.0</td>\n",
       "      <td>3693.0</td>\n",
       "      <td>11.5</td>\n",
       "      <td>70</td>\n",
       "      <td>1.0</td>\n",
       "      <td>0.0</td>\n",
       "      <td>0.0</td>\n",
       "    </tr>\n",
       "    <tr>\n",
       "      <th>2</th>\n",
       "      <td>18.0</td>\n",
       "      <td>8</td>\n",
       "      <td>318.0</td>\n",
       "      <td>150.0</td>\n",
       "      <td>3436.0</td>\n",
       "      <td>11.0</td>\n",
       "      <td>70</td>\n",
       "      <td>1.0</td>\n",
       "      <td>0.0</td>\n",
       "      <td>0.0</td>\n",
       "    </tr>\n",
       "    <tr>\n",
       "      <th>3</th>\n",
       "      <td>16.0</td>\n",
       "      <td>8</td>\n",
       "      <td>304.0</td>\n",
       "      <td>150.0</td>\n",
       "      <td>3433.0</td>\n",
       "      <td>12.0</td>\n",
       "      <td>70</td>\n",
       "      <td>1.0</td>\n",
       "      <td>0.0</td>\n",
       "      <td>0.0</td>\n",
       "    </tr>\n",
       "    <tr>\n",
       "      <th>4</th>\n",
       "      <td>17.0</td>\n",
       "      <td>8</td>\n",
       "      <td>302.0</td>\n",
       "      <td>140.0</td>\n",
       "      <td>3449.0</td>\n",
       "      <td>10.5</td>\n",
       "      <td>70</td>\n",
       "      <td>1.0</td>\n",
       "      <td>0.0</td>\n",
       "      <td>0.0</td>\n",
       "    </tr>\n",
       "  </tbody>\n",
       "</table>\n",
       "</div>"
      ],
      "text/plain": [
       "    MPG  Cylinders  Displacement  Horsepower  Weight  Acceleration  \\\n",
       "0  18.0          8         307.0       130.0  3504.0          12.0   \n",
       "1  15.0          8         350.0       165.0  3693.0          11.5   \n",
       "2  18.0          8         318.0       150.0  3436.0          11.0   \n",
       "3  16.0          8         304.0       150.0  3433.0          12.0   \n",
       "4  17.0          8         302.0       140.0  3449.0          10.5   \n",
       "\n",
       "   Model Year  Origin_1  Origin_2  Origin_3  \n",
       "0          70       1.0       0.0       0.0  \n",
       "1          70       1.0       0.0       0.0  \n",
       "2          70       1.0       0.0       0.0  \n",
       "3          70       1.0       0.0       0.0  \n",
       "4          70       1.0       0.0       0.0  "
      ]
     },
     "execution_count": 6,
     "metadata": {},
     "output_type": "execute_result"
    }
   ],
   "source": [
    "data.head()"
   ]
  },
  {
   "cell_type": "markdown",
   "id": "e9c75bc3-8a57-4e9d-b8e5-b65b91304adf",
   "metadata": {},
   "source": [
    "As a best practice, data transformations should be included in a pipeline, so we'll create a class that handles adding features that can be included in the pipeline"
   ]
  },
  {
   "cell_type": "code",
   "execution_count": 7,
   "id": "8bc45787-5a60-4770-9523-732335878d64",
   "metadata": {},
   "outputs": [],
   "source": [
    "import numpy as np\n",
    "from sklearn.base import BaseEstimator, TransformerMixin\n",
    "\n",
    "class FeatureAdder(BaseEstimator, TransformerMixin):\n",
    "    \"\"\"\n",
    "    A custom transformer that adds new features based on existing ones in the dataset.\n",
    "    \n",
    "    \"\"\"\n",
    "    def __init__(self, add_acc_on_power=True):\n",
    "        self.add_acc_on_power = add_acc_on_power\n",
    "\n",
    "    def fit(self, X, y=None):\n",
    "        return self\n",
    "\n",
    "    def transform(self, X):\n",
    "        # Define indices for feature columns\n",
    "        ACC_INDEX = 4\n",
    "        HPOWER_INDEX = 2\n",
    "        CYL_INDEX = 0\n",
    "        \n",
    "        # Calculate new features\n",
    "        acc_per_cyl = X[:, ACC_INDEX] / X[:, CYL_INDEX]\n",
    "        acc_per_hp = X[:, ACC_INDEX] / X[:, HPOWER_INDEX]\n",
    "        \n",
    "        return np.c_[X, acc_per_hp, acc_per_cyl]\n"
   ]
  },
  {
   "cell_type": "code",
   "execution_count": 8,
   "id": "2b889407-f846-49ef-9685-95b6bb5a32f2",
   "metadata": {},
   "outputs": [
    {
     "data": {
      "text/plain": [
       "array([1.80000000e+01, 8.00000000e+00, 3.07000000e+02, 1.30000000e+02,\n",
       "       3.50400000e+03, 1.20000000e+01, 7.00000000e+01, 1.00000000e+00,\n",
       "       0.00000000e+00, 0.00000000e+00, 1.14136808e+01, 1.94666667e+02])"
      ]
     },
     "execution_count": 8,
     "metadata": {},
     "output_type": "execute_result"
    }
   ],
   "source": [
    "feature_adder = FeatureAdder()\n",
    "transformed_data = feature_adder.transform(data.values)\n",
    "transformed_data[0]"
   ]
  },
  {
   "cell_type": "markdown",
   "id": "99a804b5-6cce-4860-b891-3a1e8b2ee8a3",
   "metadata": {},
   "source": [
    "## Setting up Data Transformation Pipeline"
   ]
  },
  {
   "cell_type": "code",
   "execution_count": 9,
   "id": "e6706f40-5adb-4bdd-8262-8c3457e634fb",
   "metadata": {},
   "outputs": [],
   "source": [
    "from sklearn.pipeline import Pipeline\n",
    "from sklearn.compose import ColumnTransformer\n",
    "from sklearn.impute import SimpleImputer\n",
    "from sklearn.preprocessing import StandardScaler, OneHotEncoder\n",
    "\n",
    "\n",
    "# Map origin values to strings\n",
    "# data[\"Origin\"] = data[\"Origin\"].map({1: \"USA\", 2: \"Europe\", 3: \"Asia\"}) \n",
    "    \n",
    "\n",
    "# Select numerical features\n",
    "num_attrs = ['Cylinders','Displacement','Horsepower','Weight',\n",
    "                'Acceleration', 'Model Year']\n",
    "\n",
    "# Numerical pipeline\n",
    "num_pipeline = Pipeline([\n",
    "    ('imputer', SimpleImputer(strategy=\"median\")),\n",
    "    ('feature_adder', FeatureAdder()),\n",
    "    ('scaler', StandardScaler()),\n",
    "])\n",
    "    \n",
    "# Categorical features\n",
    "cat_attrs = [\"Origin\"]\n",
    "    \n",
    "\n",
    "# Final Pipeline for preprocessing    \n",
    "preprocessing = ColumnTransformer(\n",
    "    transformers=[\n",
    "        ('num', num_pipeline, num_attrs),\n",
    "        ('cat', OneHotEncoder(), cat_attrs),\n",
    "    ]\n",
    ")"
   ]
  },
  {
   "cell_type": "code",
   "execution_count": 10,
   "id": "20fb57fe-de46-4e09-accd-5aab384e0937",
   "metadata": {},
   "outputs": [],
   "source": [
    "data = df.copy()"
   ]
  },
  {
   "cell_type": "code",
   "execution_count": 11,
   "id": "554e488a-8f76-4a6e-becf-0d6dcef84deb",
   "metadata": {},
   "outputs": [],
   "source": [
    "from sklearn.model_selection import train_test_split\n",
    "\n",
    "strat_train_set, strat_test_set = train_test_split(\n",
    " data, test_size=0.2, stratify=data['Cylinders'], random_state=42)"
   ]
  },
  {
   "cell_type": "code",
   "execution_count": 12,
   "id": "94efd081-8ab3-4803-bf5f-9315c6338368",
   "metadata": {},
   "outputs": [
    {
     "data": {
      "text/html": [
       "<div>\n",
       "<style scoped>\n",
       "    .dataframe tbody tr th:only-of-type {\n",
       "        vertical-align: middle;\n",
       "    }\n",
       "\n",
       "    .dataframe tbody tr th {\n",
       "        vertical-align: top;\n",
       "    }\n",
       "\n",
       "    .dataframe thead th {\n",
       "        text-align: right;\n",
       "    }\n",
       "</style>\n",
       "<table border=\"1\" class=\"dataframe\">\n",
       "  <thead>\n",
       "    <tr style=\"text-align: right;\">\n",
       "      <th></th>\n",
       "      <th>MPG</th>\n",
       "      <th>Cylinders</th>\n",
       "      <th>Displacement</th>\n",
       "      <th>Horsepower</th>\n",
       "      <th>Weight</th>\n",
       "      <th>Acceleration</th>\n",
       "      <th>Model Year</th>\n",
       "      <th>Origin</th>\n",
       "    </tr>\n",
       "  </thead>\n",
       "  <tbody>\n",
       "    <tr>\n",
       "      <th>145</th>\n",
       "      <td>32.0</td>\n",
       "      <td>4</td>\n",
       "      <td>83.0</td>\n",
       "      <td>61.0</td>\n",
       "      <td>2003.0</td>\n",
       "      <td>19.0</td>\n",
       "      <td>74</td>\n",
       "      <td>3</td>\n",
       "    </tr>\n",
       "    <tr>\n",
       "      <th>151</th>\n",
       "      <td>31.0</td>\n",
       "      <td>4</td>\n",
       "      <td>79.0</td>\n",
       "      <td>67.0</td>\n",
       "      <td>2000.0</td>\n",
       "      <td>16.0</td>\n",
       "      <td>74</td>\n",
       "      <td>2</td>\n",
       "    </tr>\n",
       "    <tr>\n",
       "      <th>388</th>\n",
       "      <td>26.0</td>\n",
       "      <td>4</td>\n",
       "      <td>156.0</td>\n",
       "      <td>92.0</td>\n",
       "      <td>2585.0</td>\n",
       "      <td>14.5</td>\n",
       "      <td>82</td>\n",
       "      <td>1</td>\n",
       "    </tr>\n",
       "    <tr>\n",
       "      <th>48</th>\n",
       "      <td>18.0</td>\n",
       "      <td>6</td>\n",
       "      <td>250.0</td>\n",
       "      <td>88.0</td>\n",
       "      <td>3139.0</td>\n",
       "      <td>14.5</td>\n",
       "      <td>71</td>\n",
       "      <td>1</td>\n",
       "    </tr>\n",
       "    <tr>\n",
       "      <th>114</th>\n",
       "      <td>26.0</td>\n",
       "      <td>4</td>\n",
       "      <td>98.0</td>\n",
       "      <td>90.0</td>\n",
       "      <td>2265.0</td>\n",
       "      <td>15.5</td>\n",
       "      <td>73</td>\n",
       "      <td>2</td>\n",
       "    </tr>\n",
       "  </tbody>\n",
       "</table>\n",
       "</div>"
      ],
      "text/plain": [
       "      MPG  Cylinders  Displacement  Horsepower  Weight  Acceleration  \\\n",
       "145  32.0          4          83.0        61.0  2003.0          19.0   \n",
       "151  31.0          4          79.0        67.0  2000.0          16.0   \n",
       "388  26.0          4         156.0        92.0  2585.0          14.5   \n",
       "48   18.0          6         250.0        88.0  3139.0          14.5   \n",
       "114  26.0          4          98.0        90.0  2265.0          15.5   \n",
       "\n",
       "     Model Year  Origin  \n",
       "145          74       3  \n",
       "151          74       2  \n",
       "388          82       1  \n",
       "48           71       1  \n",
       "114          73       2  "
      ]
     },
     "execution_count": 12,
     "metadata": {},
     "output_type": "execute_result"
    }
   ],
   "source": [
    "strat_train_set.head()"
   ]
  },
  {
   "cell_type": "markdown",
   "id": "38c3c6f0-c2ee-451e-9dc6-d9cb0a4748a0",
   "metadata": {},
   "source": [
    "## Model Training and Selection"
   ]
  },
  {
   "cell_type": "markdown",
   "id": "2e36e12c-a292-4dea-8230-1b410a71d772",
   "metadata": {},
   "source": [
    "We will train these models and see how they perform:\n",
    "\n",
    "* Linear Regression\n",
    "* Decision Tree Regressor\n",
    "* Random Forest Regressor\n",
    "  \n",
    "The evaluation metric will be the Root Mean Squared Error RMSE"
   ]
  },
  {
   "cell_type": "code",
   "execution_count": 13,
   "id": "45935cd0-6c42-4f13-bee2-5822e8246799",
   "metadata": {},
   "outputs": [],
   "source": [
    "train = strat_train_set\n",
    "test = strat_test_set"
   ]
  },
  {
   "cell_type": "code",
   "execution_count": 14,
   "id": "6e8e6ed4-dc1d-49ae-acf2-b37472128516",
   "metadata": {},
   "outputs": [],
   "source": [
    "X_train = train[['Cylinders','Displacement','Horsepower','Weight',\n",
    "                'Acceleration', 'Model Year', 'Origin']]\n",
    "y_train = train[['MPG']]"
   ]
  },
  {
   "cell_type": "code",
   "execution_count": 15,
   "id": "d229464c-8289-45b0-aa91-c62d02bda362",
   "metadata": {},
   "outputs": [],
   "source": [
    "X_test = test[['Cylinders','Displacement','Horsepower','Weight',\n",
    "                'Acceleration', 'Model Year', 'Origin']]\n",
    "y_test = test[['MPG']]"
   ]
  },
  {
   "cell_type": "markdown",
   "id": "b1351538-9587-481f-91bd-eca49d67d957",
   "metadata": {},
   "source": [
    "### Linear Regression"
   ]
  },
  {
   "cell_type": "code",
   "execution_count": 16,
   "id": "2b41eadb-f67a-4865-9e2c-038ae2683846",
   "metadata": {},
   "outputs": [
    {
     "name": "stdout",
     "output_type": "stream",
     "text": [
      "Linear Regression RMSE on the training set: 2.959040222576087\n"
     ]
    }
   ],
   "source": [
    "from sklearn.pipeline import make_pipeline\n",
    "from sklearn.linear_model import LinearRegression\n",
    "from sklearn.metrics import root_mean_squared_error\n",
    "\n",
    "lin_reg = make_pipeline(preprocessing, LinearRegression())\n",
    "lin_reg.fit(X_train, y_train)\n",
    "\n",
    "y_pred = lin_reg.predict(X_train)\n",
    "lin_rmse = root_mean_squared_error(y_train,y_pred)\n",
    "print('Linear Regression RMSE on the training set:', lin_rmse)"
   ]
  },
  {
   "cell_type": "code",
   "execution_count": 17,
   "id": "2ca90659-72af-40fc-b975-8d2898856561",
   "metadata": {},
   "outputs": [
    {
     "name": "stdout",
     "output_type": "stream",
     "text": [
      "[3.49462629 2.90299322 3.1744324 ]\n",
      "Average:  3.190683971358469\n"
     ]
    }
   ],
   "source": [
    "from sklearn.model_selection import cross_val_score\n",
    "\n",
    "scores = cross_val_score(lin_reg, \n",
    "                         X_train, \n",
    "                         y_train, \n",
    "                         scoring=\"neg_mean_squared_error\", \n",
    "                         cv = 3)\n",
    "lin_reg_rmse_scores = np.sqrt(-scores)\n",
    "print(lin_reg_rmse_scores)\n",
    "print('Average: ',lin_reg_rmse_scores.sum()/3)"
   ]
  },
  {
   "cell_type": "markdown",
   "id": "6a8fe3a7-fc9a-4089-b477-df681951ff5d",
   "metadata": {},
   "source": [
    "### Decision Tree Regressor"
   ]
  },
  {
   "cell_type": "code",
   "execution_count": 18,
   "id": "d2a70abe-cdbe-4b0a-8b6d-342d43e82651",
   "metadata": {},
   "outputs": [
    {
     "name": "stdout",
     "output_type": "stream",
     "text": [
      "Decision Tree RMSE on the training set: 0.0\n"
     ]
    }
   ],
   "source": [
    "from sklearn.tree import DecisionTreeRegressor\n",
    "\n",
    "tree_reg = make_pipeline(preprocessing, DecisionTreeRegressor(random_state=42))\n",
    "tree_reg.fit(X_train, y_train)\n",
    "\n",
    "y_pred = tree_reg.predict(X_train)\n",
    "tree_rmse = root_mean_squared_error(y_train,y_pred)\n",
    "print('Decision Tree RMSE on the training set:', tree_rmse)"
   ]
  },
  {
   "cell_type": "code",
   "execution_count": 19,
   "id": "a91cc0b7-3a00-45a0-bd54-f48e5812648b",
   "metadata": {},
   "outputs": [
    {
     "name": "stdout",
     "output_type": "stream",
     "text": [
      "[3.84780016 3.61901425 3.53127536]\n",
      "Average:  3.666029921938703\n"
     ]
    }
   ],
   "source": [
    "from sklearn.model_selection import cross_val_score\n",
    "\n",
    "scores = cross_val_score(tree_reg, \n",
    "                         X_train, \n",
    "                         y_train, \n",
    "                         scoring=\"neg_mean_squared_error\", \n",
    "                         cv = 3)\n",
    "tree_reg_rmse_scores = np.sqrt(-scores)\n",
    "print(tree_reg_rmse_scores)\n",
    "print('Average: ',tree_reg_rmse_scores.sum()/3)"
   ]
  },
  {
   "cell_type": "markdown",
   "id": "1dc24bdc-c2f2-415d-9106-2633f8b184a1",
   "metadata": {},
   "source": [
    "### Raandom Forest"
   ]
  },
  {
   "cell_type": "code",
   "execution_count": 20,
   "id": "f6a9b5a8-d448-4119-b37c-593ad6142d6c",
   "metadata": {},
   "outputs": [
    {
     "name": "stderr",
     "output_type": "stream",
     "text": [
      "D:\\AI\\Anaconda3\\Lib\\site-packages\\sklearn\\base.py:1474: DataConversionWarning: A column-vector y was passed when a 1d array was expected. Please change the shape of y to (n_samples,), for example using ravel().\n",
      "  return fit_method(estimator, *args, **kwargs)\n"
     ]
    },
    {
     "name": "stdout",
     "output_type": "stream",
     "text": [
      "Random Forest RMSE on the training set: 0.0\n"
     ]
    }
   ],
   "source": [
    "from sklearn.ensemble import RandomForestRegressor\n",
    "\n",
    "forest_reg = make_pipeline(preprocessing, RandomForestRegressor(random_state=42))\n",
    "forest_reg.fit(X_train, y_train)\n",
    "\n",
    "y_pred = forest_reg.predict(X_train)\n",
    "forest_rmse = root_mean_squared_error(y_train,y_pred)\n",
    "print('Random Forest RMSE on the training set:', tree_rmse)"
   ]
  },
  {
   "cell_type": "code",
   "execution_count": 21,
   "id": "26f97656-1a2c-4b4a-a49b-a62efb89a460",
   "metadata": {},
   "outputs": [
    {
     "name": "stderr",
     "output_type": "stream",
     "text": [
      "D:\\AI\\Anaconda3\\Lib\\site-packages\\sklearn\\base.py:1474: DataConversionWarning: A column-vector y was passed when a 1d array was expected. Please change the shape of y to (n_samples,), for example using ravel().\n",
      "  return fit_method(estimator, *args, **kwargs)\n",
      "D:\\AI\\Anaconda3\\Lib\\site-packages\\sklearn\\base.py:1474: DataConversionWarning: A column-vector y was passed when a 1d array was expected. Please change the shape of y to (n_samples,), for example using ravel().\n",
      "  return fit_method(estimator, *args, **kwargs)\n"
     ]
    },
    {
     "name": "stdout",
     "output_type": "stream",
     "text": [
      "[2.55725244 2.77836241 2.95615479]\n",
      "Average:  2.763923217493146\n"
     ]
    },
    {
     "name": "stderr",
     "output_type": "stream",
     "text": [
      "D:\\AI\\Anaconda3\\Lib\\site-packages\\sklearn\\base.py:1474: DataConversionWarning: A column-vector y was passed when a 1d array was expected. Please change the shape of y to (n_samples,), for example using ravel().\n",
      "  return fit_method(estimator, *args, **kwargs)\n"
     ]
    }
   ],
   "source": [
    "from sklearn.model_selection import cross_val_score\n",
    "\n",
    "scores = cross_val_score(forest_reg, \n",
    "                         X_train, \n",
    "                         y_train, \n",
    "                         scoring=\"neg_mean_squared_error\", \n",
    "                         cv =3)\n",
    "forest_reg_rmse_scores = np.sqrt(-scores)\n",
    "print(forest_reg_rmse_scores)\n",
    "print('Average: ',forest_reg_rmse_scores.sum()/3)"
   ]
  },
  {
   "cell_type": "markdown",
   "id": "cd7626c7-47bb-449d-b918-a334d70e5ad0",
   "metadata": {},
   "source": [
    "### Support Vector Machine"
   ]
  },
  {
   "cell_type": "code",
   "execution_count": 67,
   "id": "faa0a745-18bd-467b-b9b4-b216dd6f0b46",
   "metadata": {},
   "outputs": [
    {
     "name": "stdout",
     "output_type": "stream",
     "text": [
      "SVM RMSE on the training set: 0.0\n"
     ]
    },
    {
     "name": "stderr",
     "output_type": "stream",
     "text": [
      "D:\\AI\\Anaconda3\\Lib\\site-packages\\sklearn\\utils\\validation.py:1300: DataConversionWarning: A column-vector y was passed when a 1d array was expected. Please change the shape of y to (n_samples, ), for example using ravel().\n",
      "  y = column_or_1d(y, warn=True)\n"
     ]
    }
   ],
   "source": [
    " from sklearn.svm import SVR\n",
    "\n",
    "svm_reg = make_pipeline(preprocessing, SVR(kernel=\"rbf\", gamma=0.1, C=5))\n",
    "svm_reg.fit(X_train, y_train)\n",
    "\n",
    "y_pred = svm_reg.predict(X_train)\n",
    "svm_rmse = root_mean_squared_error(y_train,y_pred)\n",
    "print('SVM RMSE on the training set:', tree_rmse)"
   ]
  },
  {
   "cell_type": "code",
   "execution_count": 68,
   "id": "ab1bce49-4fe2-4189-a406-83d1dd94b07f",
   "metadata": {},
   "outputs": [
    {
     "name": "stdout",
     "output_type": "stream",
     "text": [
      "[2.83732974 3.30829886 2.81309278]\n",
      "Average:  2.986240458961202\n"
     ]
    },
    {
     "name": "stderr",
     "output_type": "stream",
     "text": [
      "D:\\AI\\Anaconda3\\Lib\\site-packages\\sklearn\\utils\\validation.py:1300: DataConversionWarning: A column-vector y was passed when a 1d array was expected. Please change the shape of y to (n_samples, ), for example using ravel().\n",
      "  y = column_or_1d(y, warn=True)\n",
      "D:\\AI\\Anaconda3\\Lib\\site-packages\\sklearn\\utils\\validation.py:1300: DataConversionWarning: A column-vector y was passed when a 1d array was expected. Please change the shape of y to (n_samples, ), for example using ravel().\n",
      "  y = column_or_1d(y, warn=True)\n",
      "D:\\AI\\Anaconda3\\Lib\\site-packages\\sklearn\\utils\\validation.py:1300: DataConversionWarning: A column-vector y was passed when a 1d array was expected. Please change the shape of y to (n_samples, ), for example using ravel().\n",
      "  y = column_or_1d(y, warn=True)\n"
     ]
    }
   ],
   "source": [
    "scores = cross_val_score(svm_reg, \n",
    "                         X_train, \n",
    "                         y_train, \n",
    "                         scoring=\"neg_mean_squared_error\", \n",
    "                         cv = 3)\n",
    "svm_reg_rmse_scores = np.sqrt(-scores)\n",
    "print(svm_reg_rmse_scores)\n",
    "print('Average: ',svm_reg_rmse_scores.sum()/3)"
   ]
  },
  {
   "cell_type": "markdown",
   "id": "0192ec08-92f1-4a9c-8ed1-817f510a8cd4",
   "metadata": {},
   "source": [
    "## Fine-tuning the Final Model\n",
    "Random Forest seems to be the most promising model, so we will proceed and fine-tune the model using **Grid Search Cross Validation**"
   ]
  },
  {
   "cell_type": "code",
   "execution_count": null,
   "id": "2331735a-3fa3-470c-9b63-43bf7cd86423",
   "metadata": {},
   "outputs": [
    {
     "name": "stderr",
     "output_type": "stream",
     "text": [
      "D:\\AI\\Anaconda3\\Lib\\site-packages\\sklearn\\base.py:1474: DataConversionWarning: A column-vector y was passed when a 1d array was expected. Please change the shape of y to (n_samples,), for example using ravel().\n",
      "  return fit_method(estimator, *args, **kwargs)\n",
      "D:\\AI\\Anaconda3\\Lib\\site-packages\\sklearn\\base.py:1474: DataConversionWarning: A column-vector y was passed when a 1d array was expected. Please change the shape of y to (n_samples,), for example using ravel().\n",
      "  return fit_method(estimator, *args, **kwargs)\n",
      "D:\\AI\\Anaconda3\\Lib\\site-packages\\sklearn\\base.py:1474: DataConversionWarning: A column-vector y was passed when a 1d array was expected. Please change the shape of y to (n_samples,), for example using ravel().\n",
      "  return fit_method(estimator, *args, **kwargs)\n",
      "D:\\AI\\Anaconda3\\Lib\\site-packages\\sklearn\\base.py:1474: DataConversionWarning: A column-vector y was passed when a 1d array was expected. Please change the shape of y to (n_samples,), for example using ravel().\n",
      "  return fit_method(estimator, *args, **kwargs)\n",
      "D:\\AI\\Anaconda3\\Lib\\site-packages\\sklearn\\base.py:1474: DataConversionWarning: A column-vector y was passed when a 1d array was expected. Please change the shape of y to (n_samples,), for example using ravel().\n",
      "  return fit_method(estimator, *args, **kwargs)\n",
      "D:\\AI\\Anaconda3\\Lib\\site-packages\\sklearn\\base.py:1474: DataConversionWarning: A column-vector y was passed when a 1d array was expected. Please change the shape of y to (n_samples,), for example using ravel().\n",
      "  return fit_method(estimator, *args, **kwargs)\n",
      "D:\\AI\\Anaconda3\\Lib\\site-packages\\sklearn\\base.py:1474: DataConversionWarning: A column-vector y was passed when a 1d array was expected. Please change the shape of y to (n_samples,), for example using ravel().\n",
      "  return fit_method(estimator, *args, **kwargs)\n",
      "D:\\AI\\Anaconda3\\Lib\\site-packages\\sklearn\\base.py:1474: DataConversionWarning: A column-vector y was passed when a 1d array was expected. Please change the shape of y to (n_samples,), for example using ravel().\n",
      "  return fit_method(estimator, *args, **kwargs)\n",
      "D:\\AI\\Anaconda3\\Lib\\site-packages\\sklearn\\base.py:1474: DataConversionWarning: A column-vector y was passed when a 1d array was expected. Please change the shape of y to (n_samples,), for example using ravel().\n",
      "  return fit_method(estimator, *args, **kwargs)\n",
      "D:\\AI\\Anaconda3\\Lib\\site-packages\\sklearn\\base.py:1474: DataConversionWarning: A column-vector y was passed when a 1d array was expected. Please change the shape of y to (n_samples,), for example using ravel().\n",
      "  return fit_method(estimator, *args, **kwargs)\n",
      "D:\\AI\\Anaconda3\\Lib\\site-packages\\sklearn\\base.py:1474: DataConversionWarning: A column-vector y was passed when a 1d array was expected. Please change the shape of y to (n_samples,), for example using ravel().\n",
      "  return fit_method(estimator, *args, **kwargs)\n",
      "D:\\AI\\Anaconda3\\Lib\\site-packages\\sklearn\\base.py:1474: DataConversionWarning: A column-vector y was passed when a 1d array was expected. Please change the shape of y to (n_samples,), for example using ravel().\n",
      "  return fit_method(estimator, *args, **kwargs)\n"
     ]
    }
   ],
   "source": [
    " from sklearn.model_selection import GridSearchCV\n",
    " rf_pipeline = Pipeline([\n",
    " (\"preprocessing\", preprocessing),\n",
    " (\"random_forest\", RandomForestRegressor(random_state=42)),\n",
    " ])\n",
    " param_grid = [\n",
    " {\n",
    "     'random_forest__max_features':[4,6,8],\n",
    "     'random_forest__max_depth':[7,9,11,13],\n",
    "     'random_forest__min_samples_split':[3,5,7],\n",
    " }\n",
    " ]\n",
    " grid_search = GridSearchCV(rf_pipeline, param_grid, cv=3,\n",
    " scoring='neg_root_mean_squared_error')\n",
    " grid_search.fit(X_train, y_train)"
   ]
  },
  {
   "cell_type": "code",
   "execution_count": null,
   "id": "4883d886-9604-4ae7-8c66-045031ea2c23",
   "metadata": {},
   "outputs": [],
   "source": [
    "grid_search.best_params_"
   ]
  },
  {
   "cell_type": "markdown",
   "id": "10d9ad92-28eb-4d6e-ba13-053872fa9cad",
   "metadata": {},
   "source": [
    "We have found the best parameters for the model, it's time to train the Final Model and calculate its score on the test set"
   ]
  },
  {
   "cell_type": "code",
   "execution_count": null,
   "id": "653e08a6-ad04-4f57-babe-fff537c0a235",
   "metadata": {},
   "outputs": [],
   "source": [
    " rf_reg = Pipeline([\n",
    " (\"preprocessing\", preprocessing),\n",
    " (\"random_forest\", RandomForestRegressor(max_depth=13,max_features=8,min_samples_split=3,random_state=42)),\n",
    " ])\n",
    "\n",
    "rf_reg.fit(X_train,y_train)"
   ]
  },
  {
   "cell_type": "code",
   "execution_count": null,
   "id": "8e47fcc0-8dbd-40e7-a80f-7376d375b1af",
   "metadata": {},
   "outputs": [],
   "source": [
    "scores = cross_val_score(rf_reg, \n",
    "                         X_train, \n",
    "                         y_train, \n",
    "                         scoring=\"neg_mean_squared_error\", \n",
    "                         cv = 3)\n",
    "rf_reg_rmse_scores = np.sqrt(-scores)\n",
    "print(rf_reg_rmse_scores)\n",
    "print('Average: ',rf_reg_rmse_scores.sum()/3)"
   ]
  },
  {
   "cell_type": "code",
   "execution_count": null,
   "id": "121cb73e-b7ab-436a-baa5-275e033708a4",
   "metadata": {},
   "outputs": [],
   "source": [
    "y_pred = rf_reg.predict(X_test)\n",
    "rmse = root_mean_squared_error(y_test,y_pred)\n",
    "print('Fine-tuned Random Forest RMSE on the test set:', rmse)"
   ]
  },
  {
   "cell_type": "markdown",
   "id": "f0501982-0af0-44d7-8980-763ade23cd95",
   "metadata": {},
   "source": [
    "### Ensemble Model: Linear Regression, Random Forest, Support Vector Machine"
   ]
  },
  {
   "cell_type": "code",
   "execution_count": null,
   "id": "f0e9d7bf-4702-4059-b1f1-f68243bcdd4a",
   "metadata": {},
   "outputs": [],
   "source": [
    "from sklearn.ensemble import VotingRegressor\n",
    "\n",
    "ens_model = VotingRegressor([('lr',lin_reg),('rf',rf_reg),('svm',svm_reg)])\n",
    "ens_model.fit(X_train,y_train)\n",
    "\n",
    "scores = cross_val_score(ens_model, \n",
    "                         X_train, \n",
    "                         y_train, \n",
    "                         scoring=\"neg_mean_squared_error\", \n",
    "                         cv = 3)\n",
    "forest_reg_rmse_scores = np.sqrt(-scores)\n",
    "print(forest_reg_rmse_scores)\n",
    "print('Average: ',forest_reg_rmse_scores.sum()/3)"
   ]
  },
  {
   "cell_type": "code",
   "execution_count": null,
   "id": "199357a2-3790-4b35-8d5b-739d708a48af",
   "metadata": {},
   "outputs": [],
   "source": [
    "y_pred = ens_model.predict(X_test)\n",
    "rmse = root_mean_squared_error(y_test,y_pred)\n",
    "print('Ensemble Model RMSE on the test set:', rmse)"
   ]
  },
  {
   "cell_type": "code",
   "execution_count": null,
   "id": "dd337ba7-a594-43ec-ab28-5f30a9c04a0f",
   "metadata": {},
   "outputs": [],
   "source": []
  },
  {
   "cell_type": "code",
   "execution_count": null,
   "id": "aea31a84-20cc-42cf-ba86-0cea99d6c38c",
   "metadata": {},
   "outputs": [],
   "source": []
  },
  {
   "cell_type": "code",
   "execution_count": null,
   "id": "a33df461-312e-4a54-8ccc-c9682d874e9a",
   "metadata": {},
   "outputs": [],
   "source": []
  },
  {
   "cell_type": "code",
   "execution_count": null,
   "id": "9e858937-6a7a-49b7-8d5c-c1840e724ba4",
   "metadata": {},
   "outputs": [],
   "source": []
  },
  {
   "cell_type": "code",
   "execution_count": null,
   "id": "420d35be-9caf-47d6-b4cb-8d3a9802da96",
   "metadata": {},
   "outputs": [],
   "source": []
  },
  {
   "cell_type": "code",
   "execution_count": null,
   "id": "9e0642ce-4ca9-4c99-beea-f9724202fae4",
   "metadata": {},
   "outputs": [],
   "source": []
  },
  {
   "cell_type": "code",
   "execution_count": null,
   "id": "bdc15a18-8400-4d71-a818-e369ce2e149c",
   "metadata": {},
   "outputs": [],
   "source": []
  },
  {
   "cell_type": "code",
   "execution_count": null,
   "id": "62f24f9b-8f46-49d5-ac87-6bf9d297da62",
   "metadata": {},
   "outputs": [],
   "source": []
  },
  {
   "cell_type": "code",
   "execution_count": null,
   "id": "285b1758-c133-4a6d-bd82-75c1b2db515f",
   "metadata": {},
   "outputs": [],
   "source": []
  }
 ],
 "metadata": {
  "kernelspec": {
   "display_name": "Python 3 (ipykernel)",
   "language": "python",
   "name": "python3"
  },
  "language_info": {
   "codemirror_mode": {
    "name": "ipython",
    "version": 3
   },
   "file_extension": ".py",
   "mimetype": "text/x-python",
   "name": "python",
   "nbconvert_exporter": "python",
   "pygments_lexer": "ipython3",
   "version": "3.11.7"
  }
 },
 "nbformat": 4,
 "nbformat_minor": 5
}
